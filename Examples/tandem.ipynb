{
 "cells": [
  {
   "cell_type": "code",
   "execution_count": 17,
   "metadata": {},
   "outputs": [],
   "source": [
    "import matplotlib.pyplot as plt\n",
    "import pymiediff as pmd\n",
    "import torch\n",
    "import numpy as np\n",
    "import h5py\n",
    "import torch.nn as nn\n",
    "import torch.optim as optim\n"
   ]
  },
  {
   "cell_type": "code",
   "execution_count": 18,
   "metadata": {},
   "outputs": [],
   "source": [
    "starting_wavelength = 380  # nm\n",
    "ending_wavelength = 750  # nm\n",
    "\n",
    "N_pt_test = 250\n",
    "\n",
    "wl = torch.linspace(\n",
    "    starting_wavelength,\n",
    "    ending_wavelength,\n",
    "    N_pt_test,\n",
    "    dtype=torch.double,\n",
    "    requires_grad=False,\n",
    ")\n",
    "\n",
    "k0 = 2 * torch.pi / wl"
   ]
  },
  {
   "cell_type": "code",
   "execution_count": 19,
   "metadata": {},
   "outputs": [],
   "source": [
    "# define range of starting parameter combinations\n",
    "r_c_min, r_c_max = 10.0, 20.0\n",
    "r_s_min, r_s_max = 45.0, 55.0\n",
    "n_c_min, n_c_max = 2.0 + 0.1j, 2.0 + 0.1j\n",
    "n_s_min, n_s_max = 5.0 + 0.2j, 5.0 + 0.2j\n",
    "\n",
    "# define number of starting parameter combinations\n",
    "NumComb = 1000\n",
    "\n",
    "r_c, r_s, n_c, n_s = pmd.seedComb(\n",
    "    r_c_min,\n",
    "    r_c_max,\n",
    "    r_s_min,\n",
    "    r_s_max,\n",
    "    n_c_min,\n",
    "    n_c_max,\n",
    "    n_s_min,\n",
    "    n_s_max,\n",
    "    NumComb=NumComb,\n",
    ")"
   ]
  },
  {
   "cell_type": "code",
   "execution_count": 20,
   "metadata": {},
   "outputs": [],
   "source": [
    "# cross_section = np.zeros((NumComb, N_pt_test), dtype=np.float32)\n",
    "\n",
    "# # Compute cross-section iteratively\n",
    "# for i in range(NumComb):\n",
    "#     cross_section[i] = pmd.farfield.cross_sections(\n",
    "#         k0=k0,\n",
    "#         r_c=r_c[i],\n",
    "#         eps_c=n_c[i]**2,\n",
    "#         r_s=r_s[i],\n",
    "#         eps_s=n_s[i]**2,\n",
    "#         eps_env=1,\n",
    "#     )['q_sca']\n",
    "#     if i % 50 == 0:\n",
    "#         print(f\"{i}/{NumComb}\")\n",
    "\n",
    "# # Save to HDF5 file\n",
    "# h5_path = \"dataset.h5\"\n",
    "# with h5py.File(h5_path, \"w\") as f:\n",
    "#     f.create_dataset(\"r_c\", data=r_c)\n",
    "#     f.create_dataset(\"r_s\", data=r_s)\n",
    "#     f.create_dataset(\"n_c\", data=n_c)\n",
    "#     f.create_dataset(\"n_s\", data=n_s)\n",
    "#     f.create_dataset(\"cross_section\", data=cross_section)\n",
    "\n",
    "# print(f\"Dataset saved to {h5_path}\")"
   ]
  },
  {
   "cell_type": "code",
   "execution_count": 21,
   "metadata": {},
   "outputs": [],
   "source": [
    "import h5py\n",
    "import torch\n",
    "import numpy as np\n",
    "from torch.utils.data import Dataset\n",
    "from sklearn.preprocessing import StandardScaler\n",
    "\n",
    "from torch.utils.data import Dataset, DataLoader\n",
    "\n",
    "class CoreShellDataset(Dataset):\n",
    "    def __init__(self, h5_file):\n",
    "        super().__init__()\n",
    "        self.h5_file = h5_file\n",
    "\n",
    "        # Open the file to get dataset sizes (but don't keep it open)\n",
    "        with h5py.File(h5_file, \"r\") as f:\n",
    "            self.length = len(f[\"r_c\"])  # Assuming all arrays have the same length\n",
    "\n",
    "    def __len__(self):\n",
    "        return self.length\n",
    "\n",
    "    def __getitem__(self, idx):\n",
    "        with h5py.File(self.h5_file, \"r\") as f:\n",
    "            r_c = f[\"r_c\"][idx]\n",
    "            r_s = f[\"r_s\"][idx]\n",
    "            n_c = f[\"n_c\"][idx]\n",
    "            n_s = f[\"n_s\"][idx]\n",
    "            cross_section = f[\"cross_section\"][idx]\n",
    "\n",
    "        x = torch.tensor([r_c, r_s, n_c, n_s], dtype=torch.float32)\n",
    "        y = torch.tensor(cross_section, dtype=torch.float32)\n",
    "\n",
    "        return x, y\n",
    "\n",
    "# Usage example\n",
    "h5_path = \"dataset.h5\"\n",
    "dataset = CoreShellDataset(h5_path)\n",
    "dataloader = DataLoader(dataset, batch_size=32, shuffle=True)"
   ]
  },
  {
   "cell_type": "code",
   "execution_count": 27,
   "metadata": {},
   "outputs": [],
   "source": [
    "class MLP(nn.Module):\n",
    "    def __init__(self, input_dim=250, output_dim=4, hidden_dim=128):\n",
    "        super().__init__()\n",
    "        self.model = nn.Sequential(\n",
    "            nn.Linear(input_dim, hidden_dim),\n",
    "            nn.ReLU(),\n",
    "            nn.Linear(hidden_dim, hidden_dim),\n",
    "            nn.ReLU(),\n",
    "            nn.Linear(hidden_dim, output_dim)\n",
    "        )\n",
    "\n",
    "    def forward(self, x):\n",
    "        return self.model(x)"
   ]
  },
  {
   "cell_type": "code",
   "execution_count": 33,
   "metadata": {},
   "outputs": [],
   "source": [
    "def custom_function(a, b, c, d):\n",
    "    return pmd.farfield.coreshell(\n",
    "                k0=k0,\n",
    "                r_c=a,\n",
    "                eps_c=c**2,\n",
    "                r_s=b,\n",
    "                eps_s=d**2,\n",
    "                eps_env=1,\n",
    "                )['q_sca']\n",
    "\n",
    "def train_model(model, dataloader, num_epochs=20, lr=1e-3, device=\"cuda\" if torch.cuda.is_available() else \"cpu\"):\n",
    "    model.to(device)\n",
    "    criterion = nn.MSELoss()\n",
    "    optimizer = optim.Adam(model.parameters(), lr=lr)\n",
    "\n",
    "    for epoch in range(num_epochs):\n",
    "        total_loss = 0.0\n",
    "        for x_batch, y_batch in dataloader:\n",
    "            x_batch, y_batch = x_batch.to(device), y_batch.to(device)\n",
    "\n",
    "            optimizer.zero_grad()\n",
    "            # Inverse model\n",
    "            x_pred = model(y_batch)\n",
    "            print(x_pred.shape)\n",
    "            # Forward model\n",
    "            y_pred = torch.stack([custom_function(*row) for row in x_pred])\n",
    "\n",
    "\n",
    "\n",
    "            loss = criterion(y_pred, y_batch)\n",
    "            loss.backward()\n",
    "            optimizer.step()\n",
    "\n",
    "            total_loss += loss.item()\n",
    "\n",
    "        avg_loss = total_loss / len(dataloader)\n",
    "        print(f\"Epoch [{epoch+1}/{num_epochs}], Loss: {avg_loss:.6f}\")\n",
    "\n",
    "    print(\"Training complete!\")"
   ]
  },
  {
   "cell_type": "code",
   "execution_count": 24,
   "metadata": {},
   "outputs": [],
   "source": [
    "from torch.utils.data import DataLoader\n",
    "h5_path = \"dataset.h5\"\n",
    "\n",
    "train_dataset = CoreShellDataset(h5_path)\n",
    "# scaler = train_dataset.scaler  # Save scaler for later use\n",
    "\n",
    "# Create DataLoader for batch processing\n",
    "dataloader = DataLoader(dataset, batch_size=32, shuffle=True)"
   ]
  },
  {
   "cell_type": "code",
   "execution_count": 34,
   "metadata": {},
   "outputs": [
    {
     "name": "stdout",
     "output_type": "stream",
     "text": [
      "torch.Size([32, 4])\n"
     ]
    },
    {
     "name": "stderr",
     "output_type": "stream",
     "text": [
      "C:\\Users\\okcj1g19\\AppData\\Local\\Temp\\ipykernel_25080\\2103007229.py:29: ComplexWarning: Casting complex values to real discards the imaginary part\n",
      "  x = torch.tensor([r_c, r_s, n_c, n_s], dtype=torch.float32)\n"
     ]
    },
    {
     "ename": "TypeError",
     "evalue": "'module' object is not callable",
     "output_type": "error",
     "traceback": [
      "\u001b[1;31m---------------------------------------------------------------------------\u001b[0m",
      "\u001b[1;31mTypeError\u001b[0m                                 Traceback (most recent call last)",
      "Cell \u001b[1;32mIn[34], line 2\u001b[0m\n\u001b[0;32m      1\u001b[0m mlp_model \u001b[38;5;241m=\u001b[39m MLP()\n\u001b[1;32m----> 2\u001b[0m \u001b[43mtrain_model\u001b[49m\u001b[43m(\u001b[49m\u001b[43mmlp_model\u001b[49m\u001b[43m,\u001b[49m\u001b[43m \u001b[49m\u001b[43mdataloader\u001b[49m\u001b[43m,\u001b[49m\u001b[43m \u001b[49m\u001b[43mnum_epochs\u001b[49m\u001b[38;5;241;43m=\u001b[39;49m\u001b[38;5;241;43m50\u001b[39;49m\u001b[43m,\u001b[49m\u001b[43m \u001b[49m\u001b[43mlr\u001b[49m\u001b[38;5;241;43m=\u001b[39;49m\u001b[38;5;241;43m1e-3\u001b[39;49m\u001b[43m)\u001b[49m\n",
      "Cell \u001b[1;32mIn[33], line 26\u001b[0m, in \u001b[0;36mtrain_model\u001b[1;34m(model, dataloader, num_epochs, lr, device)\u001b[0m\n\u001b[0;32m     24\u001b[0m \u001b[38;5;28mprint\u001b[39m(x_pred\u001b[38;5;241m.\u001b[39mshape)\n\u001b[0;32m     25\u001b[0m \u001b[38;5;66;03m# Forward model\u001b[39;00m\n\u001b[1;32m---> 26\u001b[0m y_pred \u001b[38;5;241m=\u001b[39m torch\u001b[38;5;241m.\u001b[39mstack(\u001b[43m[\u001b[49m\u001b[43mcustom_function\u001b[49m\u001b[43m(\u001b[49m\u001b[38;5;241;43m*\u001b[39;49m\u001b[43mrow\u001b[49m\u001b[43m)\u001b[49m\u001b[43m \u001b[49m\u001b[38;5;28;43;01mfor\u001b[39;49;00m\u001b[43m \u001b[49m\u001b[43mrow\u001b[49m\u001b[43m \u001b[49m\u001b[38;5;129;43;01min\u001b[39;49;00m\u001b[43m \u001b[49m\u001b[43mx_pred\u001b[49m\u001b[43m]\u001b[49m)\n\u001b[0;32m     30\u001b[0m loss \u001b[38;5;241m=\u001b[39m criterion(y_pred, y_batch)\n\u001b[0;32m     31\u001b[0m loss\u001b[38;5;241m.\u001b[39mbackward()\n",
      "Cell \u001b[1;32mIn[33], line 26\u001b[0m, in \u001b[0;36m<listcomp>\u001b[1;34m(.0)\u001b[0m\n\u001b[0;32m     24\u001b[0m \u001b[38;5;28mprint\u001b[39m(x_pred\u001b[38;5;241m.\u001b[39mshape)\n\u001b[0;32m     25\u001b[0m \u001b[38;5;66;03m# Forward model\u001b[39;00m\n\u001b[1;32m---> 26\u001b[0m y_pred \u001b[38;5;241m=\u001b[39m torch\u001b[38;5;241m.\u001b[39mstack([\u001b[43mcustom_function\u001b[49m\u001b[43m(\u001b[49m\u001b[38;5;241;43m*\u001b[39;49m\u001b[43mrow\u001b[49m\u001b[43m)\u001b[49m \u001b[38;5;28;01mfor\u001b[39;00m row \u001b[38;5;129;01min\u001b[39;00m x_pred])\n\u001b[0;32m     30\u001b[0m loss \u001b[38;5;241m=\u001b[39m criterion(y_pred, y_batch)\n\u001b[0;32m     31\u001b[0m loss\u001b[38;5;241m.\u001b[39mbackward()\n",
      "Cell \u001b[1;32mIn[33], line 2\u001b[0m, in \u001b[0;36mcustom_function\u001b[1;34m(a, b, c, d)\u001b[0m\n\u001b[0;32m      1\u001b[0m \u001b[38;5;28;01mdef\u001b[39;00m \u001b[38;5;21mcustom_function\u001b[39m(a, b, c, d):\n\u001b[1;32m----> 2\u001b[0m     \u001b[38;5;28;01mreturn\u001b[39;00m \u001b[43mpmd\u001b[49m\u001b[38;5;241;43m.\u001b[39;49m\u001b[43mfarfield\u001b[49m\u001b[38;5;241;43m.\u001b[39;49m\u001b[43mcoreshell\u001b[49m\u001b[43m(\u001b[49m\n\u001b[0;32m      3\u001b[0m \u001b[43m                \u001b[49m\u001b[43mk0\u001b[49m\u001b[38;5;241;43m=\u001b[39;49m\u001b[43mk0\u001b[49m\u001b[43m,\u001b[49m\n\u001b[0;32m      4\u001b[0m \u001b[43m                \u001b[49m\u001b[43mr_c\u001b[49m\u001b[38;5;241;43m=\u001b[39;49m\u001b[43ma\u001b[49m\u001b[43m,\u001b[49m\n\u001b[0;32m      5\u001b[0m \u001b[43m                \u001b[49m\u001b[43meps_c\u001b[49m\u001b[38;5;241;43m=\u001b[39;49m\u001b[43mc\u001b[49m\u001b[38;5;241;43m*\u001b[39;49m\u001b[38;5;241;43m*\u001b[39;49m\u001b[38;5;241;43m2\u001b[39;49m\u001b[43m,\u001b[49m\n\u001b[0;32m      6\u001b[0m \u001b[43m                \u001b[49m\u001b[43mr_s\u001b[49m\u001b[38;5;241;43m=\u001b[39;49m\u001b[43mb\u001b[49m\u001b[43m,\u001b[49m\n\u001b[0;32m      7\u001b[0m \u001b[43m                \u001b[49m\u001b[43meps_s\u001b[49m\u001b[38;5;241;43m=\u001b[39;49m\u001b[43md\u001b[49m\u001b[38;5;241;43m*\u001b[39;49m\u001b[38;5;241;43m*\u001b[39;49m\u001b[38;5;241;43m2\u001b[39;49m\u001b[43m,\u001b[49m\n\u001b[0;32m      8\u001b[0m \u001b[43m                \u001b[49m\u001b[43meps_env\u001b[49m\u001b[38;5;241;43m=\u001b[39;49m\u001b[38;5;241;43m1\u001b[39;49m\u001b[43m,\u001b[49m\n\u001b[0;32m      9\u001b[0m \u001b[43m                \u001b[49m\u001b[43m)\u001b[49m[\u001b[38;5;124m'\u001b[39m\u001b[38;5;124mq_sca\u001b[39m\u001b[38;5;124m'\u001b[39m]\n",
      "\u001b[1;31mTypeError\u001b[0m: 'module' object is not callable"
     ]
    }
   ],
   "source": [
    "mlp_model = MLP()\n",
    "train_model(mlp_model, dataloader, num_epochs=50, lr=1e-3)"
   ]
  },
  {
   "cell_type": "code",
   "execution_count": null,
   "metadata": {},
   "outputs": [],
   "source": [
    "# Get a sample from the dataset\n",
    "x_sample, y_sample = train_dataset[0]  # Example input\n",
    "x_sample = x_sample.unsqueeze(0)  # Add batch dimension\n",
    "\n",
    "# Run inference\n",
    "mlp_model.eval()\n",
    "with torch.no_grad():\n",
    "    y_pred = mlp_model(x_sample)\n",
    "\n",
    "# Convert prediction back to original scale\n",
    "y_pred_original = scaler.inverse_transform(y_pred.numpy())\n"
   ]
  }
 ],
 "metadata": {
  "kernelspec": {
   "display_name": "pyMieDiff",
   "language": "python",
   "name": "python3"
  },
  "language_info": {
   "codemirror_mode": {
    "name": "ipython",
    "version": 3
   },
   "file_extension": ".py",
   "mimetype": "text/x-python",
   "name": "python",
   "nbconvert_exporter": "python",
   "pygments_lexer": "ipython3",
   "version": "3.11.10"
  }
 },
 "nbformat": 4,
 "nbformat_minor": 2
}
